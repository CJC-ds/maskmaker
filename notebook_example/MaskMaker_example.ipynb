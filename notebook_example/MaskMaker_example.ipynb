{
  "nbformat": 4,
  "nbformat_minor": 0,
  "metadata": {
    "colab": {
      "name": "MaskMaker_example.ipynb",
      "provenance": [],
      "collapsed_sections": []
    },
    "kernelspec": {
      "name": "python3",
      "display_name": "Python 3"
    },
    "language_info": {
      "name": "python"
    }
  },
  "cells": [
    {
      "cell_type": "markdown",
      "metadata": {
        "id": "mUmWu8HTg6iL"
      },
      "source": [
        "# Mask maker"
      ]
    },
    {
      "cell_type": "code",
      "metadata": {
        "id": "5d1Ho4tug5H8"
      },
      "source": [
        "import numpy as np\n",
        "from matplotlib.patches import Polygon\n",
        "from matplotlib.collections import PatchCollection\n",
        "import matplotlib.pyplot as plt\n",
        "from PIL import Image, ImageDraw\n",
        "\n",
        "class MaskMaker:\n",
        "  \"\"\"\n",
        "  MaskMaker class that creates image masks from random polygons.\n",
        "\n",
        "  Attributes:\n",
        "  -----------\n",
        "  `seed` (int):\n",
        "    The random number generator seed for reproducibility.\n",
        "  `rng` (np.random.RandomState):\n",
        "    An object used for handling the randomness in the class object.\n",
        "  `nRegions` (int):\n",
        "    Number of polygon regions.\n",
        "  `xyTranslations` (list, tuple):\n",
        "    List of tuples indicating x and y direction shifting of the polygon\n",
        "    from origin.\n",
        "  `polyEdges` (list, int):\n",
        "    List of integers indicating the number of edges the polygon\n",
        "    will have.\n",
        "  `imageSize` (tuple):\n",
        "    Size of the full image.\n",
        "  `rescaler` (int):\n",
        "    A factor of how much to enlarge each polygon by.\n",
        "  `polygons` (list):\n",
        "    A list of generated `matplotlib.patches.Polygon` objects.\n",
        "  `rescaledVertices` (list):\n",
        "    A list of list of vertices of the polygons after rescaling.\n",
        "  `translatedVertices` (list):\n",
        "    A list of list of translated vertices of the polygons after rescaling.\n",
        "  `masks` (list):\n",
        "    A list of `numpy.darray` objects which represent the mask for each polygon.\n",
        "  `combinedMask` (numpy.darray):\n",
        "    A single mask that is the combination of all the polygons.\n",
        "  \"\"\"\n",
        "  def __init__(self, nRegions, xyTranslations,\n",
        "               polyEdges, imageSize, randSeed, rescaler=10):\n",
        "    \"\"\"\n",
        "    MaskMaker constructor\n",
        "\n",
        "    Paramters:\n",
        "    ----------\n",
        "    `seed` (int):\n",
        "      The random number generator seed for reproducibility.\n",
        "    `rng` (np.random.RandomState):\n",
        "      An object used for handling the randomness in the class object.\n",
        "    `nRegions` (int):\n",
        "      Number of polygon regions.\n",
        "    `xyTranslations` (list, tuple):\n",
        "      List of tuples indicating x and y direction shifting of the polygon\n",
        "      from origin.\n",
        "    `polyEdges` (list, int):\n",
        "      List of integers indicating the number of edges the polygon\n",
        "      will have.\n",
        "    `imageSize` (tuple):\n",
        "      Size of the full image.\n",
        "    `rescaler` (int):\n",
        "      Optional. A factor of how much to enlarge each polygon by.\n",
        "      Default value is 10.\n",
        "    \"\"\"\n",
        "    self.seed = randSeed\n",
        "    self.rng = np.random.RandomState(self.seed)\n",
        "    self.nRegions = nRegions\n",
        "    self.xyTranslations = xyTranslations\n",
        "    self.polyEdges = polyEdges\n",
        "    self.imageSize = imageSize\n",
        "    self.rescaler = rescaler\n",
        "    self.polygons = self.generatePolygons()\n",
        "    self.pVertices = self.getVertices()\n",
        "    self.rescaledVertices = self.rescaleVertices(rescaler=self.rescaler)\n",
        "    self.translatedVertices = self.translateVertices()\n",
        "    self.masks = self.generateMasks()\n",
        "    self.combinedMask = self.combineMasks()\n",
        "\n",
        "  def generatePolygons(self):\n",
        "    \"\"\"\n",
        "    Creates the polygons using matplotlib Polygons.\n",
        "    \"\"\"\n",
        "    if isinstance(self.polyEdges, list):\n",
        "      p = [Polygon(self.rng.rand(edge, 2), True) \n",
        "      for i, edge in zip(range(self.nRegions), self.polyEdges)]\n",
        "    else:\n",
        "      p = [Polygon(self.rng.rand(self.polyEdges, 2), True) \n",
        "      for i in range(self.nRegions)]\n",
        "    return p\n",
        "\n",
        "  def getVertices(self):\n",
        "    \"\"\"\n",
        "    Extracts the points from the matplotlib Polygon objects.\n",
        "    \"\"\"\n",
        "    vs = [p.get_path().vertices for p in self.polygons]\n",
        "    ts = [p.get_patch_transform() for p in self.polygons]\n",
        "    ppoints = [t.transform(v) for v, t in zip(vs,ts)]\n",
        "    return ppoints\n",
        "\n",
        "  def rescaleVertices(self, rescaler=10):\n",
        "    \"\"\"\n",
        "    Rescales the size of the polygon\n",
        "    \"\"\"\n",
        "    return [[[np.round(point*rescaler) for point in points]\n",
        "    for points in pv] \n",
        "     for pv in self.pVertices]\n",
        "\n",
        "  def translateVertices(self):\n",
        "    \"\"\"\n",
        "    Shifts the polygon in the x,y direction given `self.xyTranslations`\n",
        "    \"\"\"\n",
        "    if isinstance(self.xyTranslations, list):\n",
        "      tv = [[(np.round(x+xt), np.round(y+yt))  \n",
        "      for (x,y) in pv]\n",
        "       for pv, (xt,yt) in zip(self.rescaledVertices,self.xyTranslations)]\n",
        "    else:\n",
        "      tv = [[(np.round(x+self.xyTranslations[0]),\n",
        "              np.round(y+self.xyTranslations[1]))\n",
        "        for x,y in pv]\n",
        "        for pv in self.rescaledVertices]\n",
        "    return tv\n",
        "\n",
        "  def generateMasks(self):\n",
        "    \"\"\"\n",
        "    Creates the masks from the polygons\n",
        "    \"\"\"\n",
        "    width, height = self.imageSize\n",
        "    masks = []\n",
        "    for tv in self.translatedVertices:\n",
        "      img = Image.new('L', (width, height), 0)\n",
        "      ImageDraw.Draw(img).polygon(tv, outline=1, fill=1)\n",
        "      mask = np.array(img)\n",
        "      masks.append(mask)\n",
        "    return masks\n",
        "\n",
        "  def combineMasks(self):\n",
        "    \"\"\"\n",
        "    Combines all the masks into a single mask\n",
        "    which includes all the generated polygons.\n",
        "    \"\"\"\n",
        "    cmask = np.logical_or.reduce(self.masks)\n",
        "    return cmask\n",
        "    \n",
        "  def viewMask(self, maskNumber=None, plotComponents=False):\n",
        "    \"\"\"\n",
        "    Method to display the polygon masks generated.\n",
        "\n",
        "    Parameters:\n",
        "    -----------\n",
        "    `maskNumber` (int):\n",
        "      Default `None`.\n",
        "      Displays the combined mask when `None`.\n",
        "      Displays the mask at index `maskNumber` when specified.\n",
        "    \n",
        "    `plotComponents` (bool):\n",
        "      Default `False`.\n",
        "      When `True`, the `fig`,`ax` for plotting will be returned;\n",
        "      otherwise nothing will be returned.\n",
        "\n",
        "    Returns:\n",
        "    --------\n",
        "    `matplotlib.figure.Figure`, `matplotlib.axes._subplots.AxesSubplot`\n",
        "    \"\"\"\n",
        "    fig, ax = plt.subplots(figsize=(8,8))\n",
        "    if maskNumber is None:\n",
        "      plt.imshow(self.combinedMask)\n",
        "    else:\n",
        "      plt.imshow(self.masks[maskNumber])\n",
        "    plt.axis('off')\n",
        "    plt.show()\n",
        "    if plotComponents:\n",
        "      return fig, ax\n"
      ],
      "execution_count": 1,
      "outputs": []
    },
    {
      "cell_type": "code",
      "metadata": {
        "id": "6OU5OrIxyirp"
      },
      "source": [
        "mm = MaskMaker(3, [(60,55),(22,45),(55,75)], [4,5,7], (100,100), 1216137)"
      ],
      "execution_count": 2,
      "outputs": []
    },
    {
      "cell_type": "code",
      "metadata": {
        "colab": {
          "base_uri": "https://localhost:8080/",
          "height": 466
        },
        "id": "eVnisI7K-zsq",
        "outputId": "5da14881-0047-44ab-e1d8-d37a41e3f74d"
      },
      "source": [
        "mm.viewMask()"
      ],
      "execution_count": 3,
      "outputs": [
        {
          "output_type": "display_data",
          "data": {
            "image/png": "[encoded data removed]",
            "text/plain": [
              "<Figure size 576x576 with 1 Axes>"
            ]
          },
          "metadata": {
            "needs_background": "light"
          }
        }
      ]
    },
    {
      "cell_type": "code",
      "metadata": {
        "id": "Xq9NTGyw2fZa"
      },
      "source": [
        ""
      ],
      "execution_count": 3,
      "outputs": []
    }
  ]
}